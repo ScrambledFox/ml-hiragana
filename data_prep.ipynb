{
 "cells": [
  {
   "cell_type": "code",
   "execution_count": 1,
   "metadata": {},
   "outputs": [
    {
     "name": "stderr",
     "output_type": "stream",
     "text": [
      "C:\\Users\\joris\\AppData\\Roaming\\Python\\Python310\\site-packages\\tqdm\\auto.py:21: TqdmWarning: IProgress not found. Please update jupyter and ipywidgets. See https://ipywidgets.readthedocs.io/en/stable/user_install.html\n",
      "  from .autonotebook import tqdm as notebook_tqdm\n"
     ]
    }
   ],
   "source": [
    "# FS stuff\n",
    "import os\n",
    "\n",
    "# ETL data reader package from @CaptainDario\n",
    "from etldr.etl_data_reader import ETLDataReader\n",
    "from etldr.etl_character_groups import ETLCharacterGroups\n",
    "from etldr.etl_data_names import ETLDataNames"
   ]
  },
  {
   "cell_type": "code",
   "execution_count": 2,
   "metadata": {},
   "outputs": [],
   "source": [
    "data_path = \"D:\\\\Universiteit\\\\2022 - 2023 - Year 4\\\\Japan\\\\Machine Learning\\\\Final Assignment\\\\data\"\n",
    "data_reader = ETLDataReader(data_path)"
   ]
  },
  {
   "cell_type": "code",
   "execution_count": 3,
   "metadata": {},
   "outputs": [],
   "source": [
    "import numpy as np\n",
    "\n",
    "import matplotlib.pyplot as plt\n",
    "\n",
    "import matplotlib.font_manager as plt_fm\n",
    "show_sample_font = plt_fm.FontProperties(fname=os.path.join(\"..\", \"fonts\", \"NotoSansCJKjp-Regular.otf\"), size=20)"
   ]
  },
  {
   "cell_type": "code",
   "execution_count": 4,
   "metadata": {},
   "outputs": [],
   "source": [
    "def show_image(img: np.array, label: str):\n",
    "    plt.figure(figsize=(2,2))\n",
    "    plt.title(label=label, font=show_sample_font)\n",
    "    plt.axis('off')\n",
    "    plt.imshow(img.astype(np.float64), cmap='gray')"
   ]
  },
  {
   "cell_type": "code",
   "execution_count": 5,
   "metadata": {},
   "outputs": [
    {
     "name": "stderr",
     "output_type": "stream",
     "text": [
      "  0%|          | 0/5 [00:00<?, ?it/s]"
     ]
    },
    {
     "name": "stderr",
     "output_type": "stream",
     "text": [
      "100%|██████████| 5/5 [00:00<00:00, 14.91it/s]\n"
     ]
    }
   ],
   "source": [
    "types = [ETLCharacterGroups.hiragana]\n",
    "x, y = data_reader.read_dataset_whole(types, 16)"
   ]
  },
  {
   "cell_type": "code",
   "execution_count": 6,
   "metadata": {},
   "outputs": [
    {
     "name": "stdout",
     "output_type": "stream",
     "text": [
      "(2740, 64, 64, 1) (2740,)\n"
     ]
    },
    {
     "data": {
      "image/png": "[encoded data removed]",
      "text/plain": [
       "<Figure size 640x480 with 1 Axes>"
      ]
     },
     "metadata": {},
     "output_type": "display_data"
    }
   ],
   "source": [
    "print(x.shape, y.shape)\n",
    "\n",
    "# Check data balance\n",
    "unique, counts = np.unique(y, return_counts=True)\n",
    "balance = dict(zip(unique, counts))\n",
    "\n",
    "plt.bar(range(0, len(counts)), counts, width=1.0)\n",
    "plt.show()"
   ]
  },
  {
   "cell_type": "code",
   "execution_count": 7,
   "metadata": {},
   "outputs": [
    {
     "ename": "FileExistsError",
     "evalue": "[WinError 183] Cannot create a file when that file already exists: 'D:\\\\Universiteit\\\\2022 - 2023 - Year 4\\\\Japan\\\\Machine Learning\\\\Final Assignment\\\\data\\\\hiragana'",
     "output_type": "error",
     "traceback": [
      "\u001b[1;31m---------------------------------------------------------------------------\u001b[0m",
      "\u001b[1;31mFileExistsError\u001b[0m                           Traceback (most recent call last)",
      "Cell \u001b[1;32mIn[7], line 2\u001b[0m\n\u001b[0;32m      1\u001b[0m \u001b[39m# Save images to disk\u001b[39;00m\n\u001b[1;32m----> 2\u001b[0m os\u001b[39m.\u001b[39;49mmkdir(\u001b[39m\"\u001b[39;49m\u001b[39mD:\u001b[39;49m\u001b[39m\\\\\u001b[39;49;00m\u001b[39mUniversiteit\u001b[39;49m\u001b[39m\\\\\u001b[39;49;00m\u001b[39m2022 - 2023 - Year 4\u001b[39;49m\u001b[39m\\\\\u001b[39;49;00m\u001b[39mJapan\u001b[39;49m\u001b[39m\\\\\u001b[39;49;00m\u001b[39mMachine Learning\u001b[39;49m\u001b[39m\\\\\u001b[39;49;00m\u001b[39mFinal Assignment\u001b[39;49m\u001b[39m\\\\\u001b[39;49;00m\u001b[39mdata\u001b[39;49m\u001b[39m\\\\\u001b[39;49;00m\u001b[39mhiragana\u001b[39;49m\u001b[39m\"\u001b[39;49m)\n\u001b[0;32m      3\u001b[0m data_reader\u001b[39m.\u001b[39msave_to_file(x, y, \u001b[39m\"\u001b[39m\u001b[39mD:\u001b[39m\u001b[39m\\\\\u001b[39;00m\u001b[39mUniversiteit\u001b[39m\u001b[39m\\\\\u001b[39;00m\u001b[39m2022 - 2023 - Year 4\u001b[39m\u001b[39m\\\\\u001b[39;00m\u001b[39mJapan\u001b[39m\u001b[39m\\\\\u001b[39;00m\u001b[39mMachine Learning\u001b[39m\u001b[39m\\\\\u001b[39;00m\u001b[39mFinal Assignment\u001b[39m\u001b[39m\\\\\u001b[39;00m\u001b[39mdata\u001b[39m\u001b[39m\\\\\u001b[39;00m\u001b[39mhiragana\u001b[39m\u001b[39m\"\u001b[39m, name\u001b[39m=\u001b[39m\u001b[39m0\u001b[39m)\n",
      "\u001b[1;31mFileExistsError\u001b[0m: [WinError 183] Cannot create a file when that file already exists: 'D:\\\\Universiteit\\\\2022 - 2023 - Year 4\\\\Japan\\\\Machine Learning\\\\Final Assignment\\\\data\\\\hiragana'"
     ]
    }
   ],
   "source": [
    "# Save images to disk\n",
    "os.mkdir(\"D:\\\\Universiteit\\\\2022 - 2023 - Year 4\\\\Japan\\\\Machine Learning\\\\Final Assignment\\\\data\\\\hiragana\")\n",
    "data_reader.save_to_file(x, y, \"D:\\\\Universiteit\\\\2022 - 2023 - Year 4\\\\Japan\\\\Machine Learning\\\\Final Assignment\\\\data\\\\hiragana\", name=0)"
   ]
  }
 ],
 "metadata": {
  "kernelspec": {
   "display_name": "Python 3",
   "language": "python",
   "name": "python3"
  },
  "language_info": {
   "codemirror_mode": {
    "name": "ipython",
    "version": 3
   },
   "file_extension": ".py",
   "mimetype": "text/x-python",
   "name": "python",
   "nbconvert_exporter": "python",
   "pygments_lexer": "ipython3",
   "version": "3.10.1"
  },
  "orig_nbformat": 4
 },
 "nbformat": 4,
 "nbformat_minor": 2
}
